{
 "cells": [
  {
   "cell_type": "markdown",
   "metadata": {},
   "source": [
    "# Laboratoire 1 : Extraction de primitives\n",
    "#### Département du génie logiciel et des technologies de l’information\n",
    "\n",
    "| Étudiants             | NOMS - CODE PERMANENT                                   |\n",
    "|-----------------------|---------------------------------------------------------|\n",
    "| Cours                 | GTI770 - Systèmes intelligents et apprentissage machine |\n",
    "| Session               | SAISON ANNÉE                                            |\n",
    "| Groupe                | X                                                       |\n",
    "| Numéro du laboratoire | X                                                       |\n",
    "| Professeur            | Prof. NOM                                               |\n",
    "| Chargé de laboratoire | NOM                                                     |\n",
    "| Date                  | DATE                                                    |"
   ]
  },
  {
   "cell_type": "code",
   "execution_count": 1,
   "metadata": {},
   "outputs": [
    {
     "name": "stdout",
     "output_type": "stream",
     "text": [
      "Accuracy: 0.7333333333333333\n"
     ]
    }
   ],
   "source": [
    "#! /usr/bin/env python3 \n",
    "# -*- coding: utf-8 -*-\n",
    "\n",
    "from skimage import io\n",
    "from sklearn import tree\n",
    "from sklearn.model_selection import train_test_split\n",
    "from sklearn.tree import DecisionTreeClassifier # Import Decision Tree Classifie\n",
    "import sklearn.metrics as metrics\n",
    "\n",
    "import csv\n",
    "import matplotlib.pyplot as plt\n",
    "\n",
    "from color import center_color,crop_center\n",
    "from fourier_transform import fourier_transform\n",
    "from binaryPattern import binaryPatterns\n",
    "\n",
    "########################################   Initialisations   ########################################\n",
    "\n",
    "image_path = \"C:/Users/David/Desktop/GTI770/data/data/images/\"\n",
    "dataset_path = \"C:/Users/David/Desktop/GTI770/data/data/csv/galaxy/galaxy_label_data_set.csv\"\n",
    "\n",
    "# Nombre d'images total du dataset (training + testing)\n",
    "nb_img = 50\n",
    "# Pourcentage de données utilisées pour l'entrainement\n",
    "ratio_train = 0.7\n",
    "# Taille de rognage de l'image\n",
    "crop_size = 180\n",
    "\n",
    "X = [] # Contient les features de l'image\n",
    "Y = [] # Contient les classes associées aux images \n",
    "\n",
    "feature_cols = ['color', 'fft','binary pattern']\n",
    "# Paramètres de chaque features\n",
    "fft_threshold = 140\n",
    "color_center_size = 18\n",
    "bp_calibration = [100,50]\n",
    "\n",
    "def FeaturesProcess(img,cs_color,th_fft,nr_binaryPattern):\n",
    "    \"\"\"\n",
    "    Fonction qui permet le calcul de chaque features d'img\n",
    "    \n",
    "    input :\n",
    "        img (ndarray) : image quelconque\n",
    "        cs_color (int) : taille du centre de l'image à prendre en compte pour calculer la moyenne du niveau de gris\n",
    "        th_fft (int) : seuil à partir duquel on prend en compte les fréquences (strictement positif)\n",
    "        nr_binaryPattern ([int,int]) : \n",
    "                    nr_binaryPattern[0] : nombre de points à prendre en compte sur le périmètre du cercle\n",
    "                    nr_binaryPattern[1] : taille du rayon du cercle\n",
    "    output : \n",
    "        (list) retourne la liste des features calculées\n",
    "    \n",
    "    \"\"\"\n",
    "    Features = []\n",
    "    \n",
    "    # plt.imshow(img)\n",
    "    # plt.show()\n",
    "\n",
    "    # Calculs des Features\n",
    "    f_c = center_color(img,cs_color)\n",
    "    f_fft = fourier_transform(img,th_fft)\n",
    "    f_bp = binaryPatterns(img,nr_binaryPattern[0],nr_binaryPattern[1])  \n",
    "\n",
    "    Features.append(f_c)   \n",
    "    Features.append(f_fft)\n",
    "    Features.append(f_bp)\n",
    "\n",
    "    # Retourne les features calculés\n",
    "    return Features    \n",
    "\n",
    "\n",
    "########################################   Lecture   ########################################\n",
    "# Lecture du fichier CSV\n",
    "with open(dataset_path) as f:\n",
    "    f_csv = csv.reader(f)\n",
    "    next(f_csv) # On passe la 1ere ligne d'entête\n",
    "    \n",
    "    # Lecture ligne par ligne\n",
    "    for ligne,i in zip(f_csv,range(nb_img)):\n",
    "        \n",
    "        # Lecture et rognage de l'image\n",
    "        image = crop_center(io.imread( image_path + ligne[0] + \".jpg\" ),crop_size,crop_size)\n",
    "        # Calcul des features et stockage dans X\n",
    "        X.append( FeaturesProcess(image, color_center_size, fft_threshold, bp_calibration) )\n",
    "        # Sauvegarde de la classe correspondante dans Y\n",
    "        Y.append(1 * (ligne[1]==\"smooth\"))  # smooth :1 et spiral : 0\n",
    "       \n",
    "\n",
    "########################################    Entrainement   ########################################\n",
    "# Diviser l'ensemble de données en un ensemble d'apprentissage et un ensemble de test\n",
    "X_train, X_test, Y_train, Y_test = train_test_split(X, Y, train_size=ratio_train, random_state=1) # 70% training and 30% test\n",
    "\n",
    "# Création d'un arbre de décision \n",
    "clf = tree.DecisionTreeClassifier()\n",
    "\n",
    "# Construit les décision de l'arbre de classification\n",
    "clf = clf.fit(X_train,Y_train)\n",
    "tree.plot_tree(clf) \n",
    "\n",
    "# Prévoir la réponse pour l'ensemble de données de test\n",
    "Y_pred = clf.predict(X_test)\n",
    "\n",
    "# Précision du modèle, à quelle fréquence le classificateur est-il correct ?\n",
    "print(\"Accuracy:\",metrics.accuracy_score(Y_test, Y_pred)) \n",
    "\n"
   ]
  },
  {
   "cell_type": "markdown",
   "metadata": {},
   "source": [
    "### Question 1 - Introduction et revue de la littérature"
   ]
  },
  {
   "cell_type": "markdown",
   "metadata": {},
   "source": [
    "### Question 2"
   ]
  },
  {
   "cell_type": "markdown",
   "metadata": {},
   "source": [
    "### Question 3"
   ]
  },
  {
   "cell_type": "markdown",
   "metadata": {},
   "source": [
    "### Question 4"
   ]
  },
  {
   "cell_type": "markdown",
   "metadata": {},
   "source": [
    "### Question 5"
   ]
  },
  {
   "cell_type": "markdown",
   "metadata": {},
   "source": [
    "### Conclusion"
   ]
  },
  {
   "cell_type": "markdown",
   "metadata": {},
   "source": [
    "### Bibliographie"
   ]
  }
 ],
 "metadata": {
  "kernelspec": {
   "display_name": "Python 3",
   "language": "python",
   "name": "python3"
  },
  "language_info": {
   "codemirror_mode": {
    "name": "ipython",
    "version": 3
   },
   "file_extension": ".py",
   "mimetype": "text/x-python",
   "name": "python",
   "nbconvert_exporter": "python",
   "pygments_lexer": "ipython3",
   "version": "3.6.9"
  }
 },
 "nbformat": 4,
 "nbformat_minor": 2
}
