{
 "cells": [
  {
   "cell_type": "markdown",
   "metadata": {},
   "source": [
    "# Laboratoire 4 : Développement d'un système intelligent\n",
    "#### Département du génie logiciel et des technologies de l’information\n",
    "\n",
    "| Étudiants             | NOMS - CODE PERMANENT                                   |\n",
    "|-----------------------|---------------------------------------------------------|\n",
    "| Cours                 | GTI770 - Systèmes intelligents et apprentissage machine |\n",
    "| Session               | SAISON ANNÉE                                            |\n",
    "| Groupe                | X                                                       |\n",
    "| Numéro du laboratoire | X                                                       |\n",
    "| Professeur            | Prof. NOM                                               |\n",
    "| Chargé de laboratoire | NOM                                                     |\n",
    "| Date                  | DATE                                                    |"
   ]
  },
  {
   "cell_type": "code",
   "execution_count": null,
   "metadata": {},
   "outputs": [],
   "source": [
    "#Imports\n",
    "from functions import *\n",
    "from RF_model import *\n",
    "import numpy as np\n",
    "from sklearn.ensemble import RandomForestClassifier\n",
    "from sklearn.model_selection import KFold\n",
    "import sklearn.metrics as metrics\n",
    "import time\n",
    "from sklearn import preprocessing\n",
    "from imblearn.under_sampling import RandomUnderSampler"
   ]
  },
  {
   "cell_type": "code",
   "execution_count": null,
   "metadata": {},
   "outputs": [],
   "source": [
    "#Ouverture\n",
    "path_SD = \"./tagged_feature_sets/msd-jmirspectral_dev/msd-jmirspectral_dev.csv\"   #dataset SpectralDerivate\n",
    "path_MFC = \"./tagged_feature_sets/msd-jmirmfccs_dev/msd-jmirmfccs_dev.csv\"        #dataset MFC\n",
    "path_SSD = \"./tagged_feature_sets/msd-ssd_dev/msd-ssd_dev.csv\"                    #dataset SSD\n",
    "path_jmirderivatives = \"./tagged_feature_sets/msd-jmirderivatives_dev/msd-jmirderivatives_dev.csv\"\n",
    "path_jmirlpc = \"./tagged_feature_sets/msd-jmirlpc_dev/msd-jmirlpc_dev.csv\"\n",
    "path_jmirmoments = \"./tagged_feature_sets/msd-jmirmoments_dev/msd-jmirmoments_dev.csv\"\n",
    "path_marsyas = \"./tagged_feature_sets/msd-marsyas_dev_new/msd-marsyas_dev_new.csv\"\n",
    "path_mvd = \"./tagged_feature_sets/msd-mvd_dev/msd-mvd_dev.csv\"\n",
    "path_rh = \"./tagged_feature_sets/msd-rh_dev_new/msd-rh_dev_new.csv\"\n",
    "path_trh = \"./tagged_feature_sets/msd-trh_dev/msd-trh_dev.csv\"\n",
    "\n",
    "\n",
    "path_list = [path_marsyas]"
   ]
  },
  {
   "cell_type": "code",
   "execution_count": null,
   "metadata": {},
   "outputs": [],
   "source": [
    "X,Y = get_data(path_marsyas) # to do MAJ GET DATA : NEW sortie\n",
    "X = preprocessing.normalize(X, norm ='max',axis=0)\n",
    "#rus = RandomUnderSampler(sampling_strategy='auto')\n",
    "#X,Y = rus.fit_resample(X,Y)"
   ]
  },
  {
   "cell_type": "code",
   "execution_count": null,
   "metadata": {},
   "outputs": [],
   "source": [
    "#Nombre d'arbres\n",
    "list_estimators = [5,10,50,100,300,1000]\n",
    "n_splits = 5\n",
    "res = RF_nbEstimators(X,Y,list_estimators,n_splits)\n",
    "acc = res[:,0]\n",
    "f1 = res[:,1]\n",
    "train_delay = res[:,2]\n",
    "test_delay = res[:,3]\n",
    "\n",
    "plot_perf_delay(acc, f1, train_delay,test_delay,\"nombre d'estimateurs\")\n",
    "print(res)"
   ]
  },
  {
   "cell_type": "code",
   "execution_count": null,
   "metadata": {},
   "outputs": [],
   "source": [
    "#Profondeur des arbres\n",
    "list_max_depth = [5,7,10,15,20,None]\n",
    "res = RF_maxDepth(X,Y,list_max_depth,n_splits = 5)\n",
    "\n",
    "acc = res[:,0]\n",
    "f1 = res[:,1]\n",
    "train_delay = res[:,2]\n",
    "test_delay = res[:,3]\n",
    "\n",
    "plot_perf_delay(acc, f1, train_delay,test_delay,\"profondeur\")\n",
    "print(res)"
   ]
  },
  {
   "cell_type": "code",
   "execution_count": null,
   "metadata": {},
   "outputs": [],
   "source": [
    "list_min_samples_splits = [2,3,4,5,10]\n",
    "res = RF_sampleSplit(X,Y,list_min_samples_splits,n_splits = 5)\n",
    "acc = res[:,0]\n",
    "f1 = res[:,1]\n",
    "train_delay = res[:,2]\n",
    "test_delay = res[:,3]\n",
    "\n",
    "plot_perf_delay(acc, f1, train_delay,test_delay,\"internal node\")\n",
    "print(res)"
   ]
  },
  {
   "cell_type": "code",
   "execution_count": null,
   "metadata": {},
   "outputs": [],
   "source": [
    "#Séparation noeud terminal\n",
    "list_min_samples_leaf = [1,2,3,4,5,10]\n",
    "res = RF_sampleLeaf(X,Y,list_min_samples_leaf,n_splits = 5)\n",
    "acc = res[:,0]\n",
    "f1 = res[:,1]\n",
    "train_delay = res[:,2]\n",
    "test_delay = res[:,3]\n",
    "\n",
    "plot_perf_delay(acc, f1, train_delay,test_delay,\"leaf node\")\n",
    "print(res)"
   ]
  },
  {
   "cell_type": "code",
   "execution_count": null,
   "metadata": {},
   "outputs": [],
   "source": [
    "#Meilleur K-fold cross validation\n",
    "list_nb_Ksplit = [5,7,10,15]\n",
    "res = RF_Kfold_Split(X,Y,list_nb_Ksplit)\n",
    "acc = res[:,0]\n",
    "f1 = res[:,1]\n",
    "train_delay = res[:,2]\n",
    "test_delay = res[:,3]\n",
    "\n",
    "plot_perf_delay(acc, f1, train_delay,test_delay,\"split\")\n",
    "print(res)"
   ]
  },
  {
   "cell_type": "markdown",
   "metadata": {},
   "source": [
    "## Introduction et revue de la littérature"
   ]
  },
  {
   "cell_type": "markdown",
   "metadata": {},
   "source": [
    "## Question 2\n",
    "### Configuration de l'environnement"
   ]
  },
  {
   "cell_type": "markdown",
   "metadata": {},
   "source": [
    "### Partitionnement des données"
   ]
  },
  {
   "cell_type": "markdown",
   "metadata": {},
   "source": [
    "### Validation"
   ]
  },
  {
   "cell_type": "markdown",
   "metadata": {},
   "source": [
    "### Prétraitement"
   ]
  },
  {
   "cell_type": "markdown",
   "metadata": {},
   "source": [
    "## Question 3\n",
    "### Description des modèles et justifications"
   ]
  },
  {
   "cell_type": "markdown",
   "metadata": {},
   "source": [
    "## Question 4\n",
    "### Matrice des expérimentations"
   ]
  },
  {
   "cell_type": "markdown",
   "metadata": {},
   "source": [
    "### Matrice des résultats de l'étude des hyperparamètres"
   ]
  },
  {
   "cell_type": "markdown",
   "metadata": {},
   "source": [
    "### Graphiques"
   ]
  },
  {
   "cell_type": "markdown",
   "metadata": {},
   "source": [
    "### Discussion"
   ]
  },
  {
   "cell_type": "markdown",
   "metadata": {},
   "source": [
    "## Question 5\n",
    "### Présentation de la conception"
   ]
  },
  {
   "cell_type": "markdown",
   "metadata": {},
   "source": [
    "## Question 6\n",
    "### Hyperparamètres des modèles choisis dans la conception"
   ]
  },
  {
   "cell_type": "markdown",
   "metadata": {},
   "source": [
    "### Matrice des résultats"
   ]
  },
  {
   "cell_type": "markdown",
   "metadata": {},
   "source": [
    "### Discussion"
   ]
  },
  {
   "cell_type": "markdown",
   "metadata": {},
   "source": [
    "## Question 7 \n",
    "### Formulation des recommandations"
   ]
  },
  {
   "cell_type": "markdown",
   "metadata": {},
   "source": [
    "## Conclusion"
   ]
  }
 ],
 "metadata": {
  "kernelspec": {
   "display_name": "Python 3",
   "language": "python",
   "name": "python3"
  },
  "language_info": {
   "codemirror_mode": {
    "name": "ipython",
    "version": 3
   },
   "file_extension": ".py",
   "mimetype": "text/x-python",
   "name": "python",
   "nbconvert_exporter": "python",
   "pygments_lexer": "ipython3",
   "version": "3.7.4"
  }
 },
 "nbformat": 4,
 "nbformat_minor": 2
}
