{
 "cells": [
  {
   "cell_type": "code",
   "execution_count": null,
   "metadata": {
    "pycharm": {}
   },
   "outputs": [],
   "source": [
    "\n"
   ]
  },
  {
   "cell_type": "code",
   "execution_count": 1,
   "metadata": {
    "pycharm": {
     "metadata": false,
     "name": "#%%\n"
    }
   },
   "outputs": [],
   "source": [
    "\n",
    "import pandas as pd\n",
    "import numpy as np\n",
    "import matplotlib.pyplot as plt\n",
    "from functions import *\n",
    "from SVC_model import PCA_Find_ncomp,PCA_transform,SVM_Gridsearch,SVC_Linear,SVC_rbf\n",
    "from sklearn.model_selection import train_test_split\n",
    "from sklearn import preprocessing\n"
   ]
  },
  {
   "cell_type": "code",
   "execution_count": 5,
   "metadata": {
    "pycharm": {
     "metadata": false,
     "name": "#%%\n"
    }
   },
   "outputs": [
    {
     "name": "stdout",
     "output_type": "stream",
     "text": [
      "Test ACC ssd\n",
      "28\n",
      "best param\n",
      "{'C': 10, 'gamma': 1, 'kernel': 'rbf'}\n",
      "best score\n",
      "0.25806666666666667\n"
     ]
    }
   ],
   "source": [
    "dataset_pat=(\"/home/ens/AN03460/Desktop/TP4/music/music/tagged_feature_sets/msd-ssd_dev/msd-ssd_dev.csv\")\n",
    "print('Test ACC ssd')\n",
    "X, Y, le= get_data(dataset_pat)\n",
    "X = preprocessing.normalize(X, norm='max',axis = 0)\n",
    "X_train, X_test, Y_train, Y_test = train_test_split(X, Y, train_size=0.8, random_state=60, stratify=Y)\n",
    "N_comp=PCA_Find_ncomp(X_train,0.95)\n",
    "print(N_comp)\n",
    "PCA_X_Train,PCA_X_Test=PCA_transform(X_train,X_test,N_comp)\n",
    "\n",
    "Grid = SVM_Gridsearch(PCA_X_Train[:30000], Y_train[:30000])\n",
    "\n",
    "print('best param')\n",
    "print(Grid.best_params_)\n",
    "\n",
    "\n",
    "print('best score')\n",
    "print(Grid.best_score_)\n",
    "\n",
    "# PCA_X_Train,PCA_X_Test=PCA_transform(X_train,X_test,N_comp)\n",
    "# print('Linear')\n",
    "# SVC_Linear(PCA_X_Train, Y_train, PCA_X_Test, Y_test,1)\n",
    "# print('rbf')\n",
    "# SVC_rbf(PCA_X_Train, Y_train, PCA_X_Test, Y_test,10,1)"
   ]
  },
  {
   "cell_type": "code",
   "execution_count": 2,
   "metadata": {
    "pycharm": {
     "metadata": false,
     "name": "#%%\n"
    }
   },
   "outputs": [
    {
     "name": "stdout",
     "output_type": "stream",
     "text": [
      "Test ACC mfccs\n",
      "3\n",
      "best param\n",
      "{'C': 10, 'gamma': 10, 'kernel': 'rbf'}\n",
      "best score\n"
     ]
    },
    {
     "ename": "AttributeError",
     "evalue": "'GridSearchCV' object has no attribute 'best_score'",
     "output_type": "error",
     "traceback": [
      "\u001b[0;31m---------------------------------------------------------------------------\u001b[0m",
      "\u001b[0;31mAttributeError\u001b[0m                            Traceback (most recent call last)",
      "\u001b[0;32m<ipython-input-2-f88884ce196c>\u001b[0m in \u001b[0;36m<module>\u001b[0;34m\u001b[0m\n\u001b[1;32m     19\u001b[0m \u001b[0;34m\u001b[0m\u001b[0m\n\u001b[1;32m     20\u001b[0m \u001b[0mprint\u001b[0m\u001b[0;34m(\u001b[0m\u001b[0;34m'best score'\u001b[0m\u001b[0;34m)\u001b[0m\u001b[0;34m\u001b[0m\u001b[0;34m\u001b[0m\u001b[0m\n\u001b[0;32m---> 21\u001b[0;31m \u001b[0mprint\u001b[0m\u001b[0;34m(\u001b[0m\u001b[0mGrid\u001b[0m\u001b[0;34m.\u001b[0m\u001b[0mbest_score\u001b[0m\u001b[0;34m)\u001b[0m\u001b[0;34m\u001b[0m\u001b[0;34m\u001b[0m\u001b[0m\n\u001b[0m",
      "\u001b[0;31mAttributeError\u001b[0m: 'GridSearchCV' object has no attribute 'best_score'"
     ]
    }
   ],
   "source": [
    "dataset_path=(\"/home/ens/AN03460/Desktop/TP4/music/music/tagged_feature_sets/msd-jmirmfccs_dev/msd-jmirmfccs_dev.csv\")\n",
    "print('Test ACC mfccs')\n",
    "X, Y,le = get_data(dataset_path)\n",
    "X = preprocessing.normalize(X, norm='max',axis = 0)\n",
    "X_train, X_test, Y_train, Y_test = train_test_split(X, Y, train_size=0.8, random_state=60, stratify=Y)\n",
    "N_comp=PCA_Find_ncomp(X_train,0.95)\n",
    "print(N_comp)\n",
    "\n",
    "\n",
    "\n",
    "\n",
    "PCA_X_Train,PCA_X_Test=PCA_transform(X_train,X_test,N_comp)\n",
    "\n",
    "Grid = SVM_Gridsearch(PCA_X_Train[:30000], Y_train[:30000])\n",
    "\n",
    "print('best param')\n",
    "print(Grid.best_params_)\n",
    "\n",
    "\n",
    "print('best score')\n",
    "print(Grid.best_score_)"
   ]
  },
  {
   "cell_type": "code",
   "execution_count": 3,
   "metadata": {
    "pycharm": {
     "metadata": false,
     "name": "#%%\n"
    }
   },
   "outputs": [
    {
     "name": "stdout",
     "output_type": "stream",
     "text": [
      "best score\n",
      "0.14046666666666666\n"
     ]
    }
   ],
   "source": [
    "print('best score')\n",
    "print(Grid.best_score_)\n",
    "\n",
    "# print('Linear')\n",
    "# SVC_Linear(PCA_X_Train, Y_train, PCA_X_Test, Y_test,1)\n",
    "# print('rbf')\n",
    "# SVC_rbf(PCA_X_Train, Y_train, PCA_X_Test, Y_test,10,1)\n",
    "\n",
    "# import pickle\n",
    "# # Save the model\n",
    "# pickle_out = open(\"SVM.pickle\", \"wb\")\n",
    "# pickle.dump(clf,pickle_out)"
   ]
  },
  {
   "cell_type": "code",
   "execution_count": 5,
   "metadata": {
    "pycharm": {
     "metadata": false,
     "name": "#%%\n"
    },
    "scrolled": true
   },
   "outputs": [
    {
     "name": "stdout",
     "output_type": "stream",
     "text": [
      "Test ACC jmirspectral\n",
      "14\n",
      "Linear\n",
      "[[   0   22   88    6    3   12   16    0    0    2  152    0    0    0\n",
      "     9   31    2    0    0    2    0    0   48   16    0]\n",
      " [   0  132  108   25    3   39   24    0    0   54  151   19    2    2\n",
      "    16  167    7    5    0    2    0   11   96   39    0]\n",
      " [   0   45  292   35    8   40   22    0    0   34  208   11    1    2\n",
      "    57  255   16    0    1    5    1   41  361   28    0]\n",
      " [   0    8   27  845   73   42   13    0    0  411   65   42   17    4\n",
      "   122  137   18    2    0    6    0   29   84   30    2]\n",
      " [   0    8   36  366  122  113    5    0    0  202  116   36   31    5\n",
      "    36  222    6    5    0    2    0   36   66   15    2]\n",
      " [   0   18   54  182   75  220    7    0    0   60  144   48   64   24\n",
      "    23  383    5   19    0    3    3   85   97   67    5]\n",
      " [   0   37  100  121   18   64   51    0    0   87  244   11    4    2\n",
      "    40  214   29    0    1    2    0   23  206   38    1]\n",
      " [   0    8   69   79   12   26   15    0    0   74   84   45    5    6\n",
      "    74  142    4    3    0    4    6   26  190   44    0]\n",
      " [   0    4   10   28    5   25    1    0    0    6   10  261   70   26\n",
      "    21  130    3   27    0    0    2   88   41   43   18]\n",
      " [   0   24   32  313   13   15   11    0    0 1309   63   32    2    3\n",
      "   115   48   18    2    2    6    0    6   93    9    0]\n",
      " [   0   42   78   60   26   94   35    0    0   53  646    0    1    1\n",
      "    10   83   13    2    0    6    0    5  118   39    2]\n",
      " [   0    6   21   83   14   47    5    0    0   21   21  681  236  126\n",
      "    46  178    9   50    0    0    8  108   87   70   22]\n",
      " [   0    1    6   15    7   49    0    0    0    2   11  167  712  135\n",
      "     2   69    0   26    0    0    2   56    1   26   10]\n",
      " [   0    2    7   34   10   47    2    0    0   15   11  276  350  233\n",
      "    21  115    7   34    0    1    1   67   24  117   32]\n",
      " [   0   11   91  242   25   34   25    0    0  271  107   79   10   11\n",
      "   251  201   22    6    0    2    1   28  321   49    5]\n",
      " [   0   31  111  177   67  138   24    0    0   52  136   98   79   21\n",
      "    45  801   13   44    0    3    7  172  226  114   13]\n",
      " [   0   23   69  122    5   10   24    0    0  120   58   24    1    1\n",
      "    84  106  127    0    3    5    0   11  193   23    1]\n",
      " [   0   14   24   40    4   41    6    0    0    9   25  208  143  133\n",
      "     9  167    9  139    1    0    5  108   26  107   43]\n",
      " [   0   19   13  141    4    9    3    0    0  305   45   12    0    6\n",
      "    32   33   13   12    0    5    0    3   24    4    4]\n",
      " [   0   40   64   79    5   16   20    0    0  195  129    3    0    0\n",
      "    43   69   12    1    0    8    0    3  117   17    0]\n",
      " [   0   13   67  121   40   82   10    0    0   52   46  198   96   31\n",
      "    54  369   11   31    0    2    7  173  186   65   13]\n",
      " [   0   22   73  131   50  118    8    0    0   45   80  192   97   53\n",
      "    53  636   12   63    0    0    5  253  164   87   29]\n",
      " [   0   25  171  130   40   52   26    0    0  112  193   92    4    9\n",
      "   162  402   27    4    0    3    9   65  574   60    6]\n",
      " [   0   30   51   70    7   87   11    0    0   17   62  191  108   89\n",
      "    53  301   23   62    0    0    4  105  131  318   24]\n",
      " [   0   20   25   62    9   75   10    0    0   36   33  244  131  128\n",
      "    36  239    9   93    0    0    1   96   57  107   42]]\n",
      "              precision    recall  f1-score   support\n",
      "\n",
      "           0       0.00      0.00      0.00       409\n",
      "           1       0.22      0.15      0.18       902\n",
      "           2       0.17      0.20      0.19      1463\n",
      "           3       0.24      0.43      0.31      1977\n",
      "           4       0.19      0.09      0.12      1430\n",
      "           5       0.15      0.14      0.14      1586\n",
      "           6       0.14      0.04      0.06      1293\n",
      "           7       0.00      0.00      0.00       916\n",
      "           8       0.00      0.00      0.00       819\n",
      "           9       0.37      0.62      0.46      2116\n",
      "          10       0.23      0.49      0.31      1314\n",
      "          11       0.23      0.37      0.28      1839\n",
      "          12       0.33      0.55      0.41      1297\n",
      "          13       0.22      0.17      0.19      1406\n",
      "          14       0.18      0.14      0.16      1792\n",
      "          15       0.15      0.34      0.20      2372\n",
      "          16       0.31      0.13      0.18      1010\n",
      "          17       0.22      0.11      0.15      1261\n",
      "          18       0.00      0.00      0.00       687\n",
      "          19       0.12      0.01      0.02       821\n",
      "          20       0.11      0.00      0.01      1667\n",
      "          21       0.16      0.12      0.13      2171\n",
      "          22       0.16      0.27      0.20      2166\n",
      "          23       0.21      0.18      0.19      1744\n",
      "          24       0.15      0.03      0.05      1453\n",
      "\n",
      "    accuracy                           0.22     35911\n",
      "   macro avg       0.17      0.18      0.16     35911\n",
      "weighted avg       0.19      0.22      0.18     35911\n",
      "\n",
      "Temps de training: 579.4367389678955 Temps de prédiction:  197.96165466308594\n",
      "rbf\n"
     ]
    },
    {
     "name": "stderr",
     "output_type": "stream",
     "text": [
      "/home/ens/AN03460/venv/lib/python3.6/site-packages/sklearn/metrics/classification.py:1437: UndefinedMetricWarning: Precision and F-score are ill-defined and being set to 0.0 in labels with no predicted samples.\n",
      "  'precision', 'predicted', average, warn_for)\n"
     ]
    },
    {
     "name": "stdout",
     "output_type": "stream",
     "text": [
      "[[  45   20   82    3    2   10   31    0    0    6   95    0    0    1\n",
      "     8   34    9    1    1    6    0    0   44   11    0]\n",
      " [  13  199  122   17    4   27   52    0    0   31   80   16    2    3\n",
      "    12   91   14    4    8   22    3   26  108   45    3]\n",
      " [  27   48  520   16    4   28   53    5    0   25  110   20    0    1\n",
      "    39  145   24    1    8   17    5   41  294   31    1]\n",
      " [   0   14   18  789   79   62   28    6    0  366   36   32    8    7\n",
      "   113  113   25    8   54   13    6   39  131   27    3]\n",
      " [   4   11   27  364  184  119   30    2    0  166   66   23   15    9\n",
      "    36  170    9    9   18    5    6   52   90   13    2]\n",
      " [   8   19   50  154   89  237   31    4    0   62   91   44   40   29\n",
      "    17  321    6   22   10   12   12  111  110  104    3]\n",
      " [  14   34  118   92   18   56  184   10    1   69  137   14    1    6\n",
      "    29  143   49    4    8   14    6   24  222   39    1]\n",
      " [   4   10  106   33    2   24   38   19    1   61   43   53    4    6\n",
      "    66   85   24    6    6   15   19   23  216   52    0]\n",
      " [   0    4    9   26    7   23    3    0   16    3    6  239   37   48\n",
      "    13  106    4   26    0    1   12  101   42   63   30]\n",
      " [   3   15   30  231   18    9   22    3    0 1349   32   28    3    2\n",
      "   102   35   28    3   53   15    1   16  101   15    2]\n",
      " [  25   38   76   39   15   74   55    1    0   29  682    0    1    2\n",
      "    15   50   20    5    7   14    0    8  118   39    1]\n",
      " [   1    4   27   54   13   40    8    3    6   20   13  723  152  155\n",
      "    31  151    9   52    2    1   31  118  103   85   37]\n",
      " [   2    1    4   10   17   56    2    0    2    4    4  157  697  130\n",
      "     0   64    0   32    0    0   11   50    6   34   14]\n",
      " [   0    1   11   30   11   48    2    0    0   23   11  247  262  329\n",
      "    13   90    4   50    1    0    6   69   31  132   35]\n",
      " [   5    5  110  185   15   40   46   14    1  238   74   68    8    9\n",
      "   269  135   48    9   18   14   13   44  358   60    6]\n",
      " [  12   30  106  144   37  126   55    2    3   54   85   97   50   30\n",
      "    36  709   15   51    7    7   26  250  277  147   16]\n",
      " [   7   12   85   89    3    9   38    7    0   85   41   19    2    3\n",
      "    66   66  189    4   17   18    0   17  193   39    1]\n",
      " [   0    9   19   33    2   31    8    0    2   13   22  185   84  124\n",
      "     7  126   11  223    8    5   13  120   30  122   64]\n",
      " [   4   11    9   92   10   10    7    6    1  186   19   10    0    5\n",
      "    15   20   21   16  184   10    0    5   27   14    5]\n",
      " [   4   36   86   50    7   16   25    1    0  180   89    3    0    0\n",
      "    36   40   29    0   16   53    0    5  121   24    0]\n",
      " [   3   17   60  102   40   73   27    1    4   40   36  174   71   45\n",
      "    45  294   10   42    5    5   50  177  235  100   11]\n",
      " [   2   24   67   97   30  108   20    1    5   46   57  164   74   58\n",
      "    40  534   10   63    7    5   35  354  228  118   24]\n",
      " [   8   34  199   82   17   49   54    2    2   81  125   81    3   12\n",
      "   144  252   42    5   13   13   22   91  739   89    7]\n",
      " [   4   27   65   48    2   70   22    1    2   15   44  182   82  100\n",
      "    31  185   26   61    8   12   12  119  162  436   28]\n",
      " [   2   17   24   56   12   69   16    2    3   28   29  226   82  119\n",
      "    24  170   10   97    8    4   15  121   79  134  106]]\n",
      "              precision    recall  f1-score   support\n",
      "\n",
      "           0       0.23      0.11      0.15       409\n",
      "           1       0.31      0.22      0.26       902\n",
      "           2       0.26      0.36      0.30      1463\n",
      "           3       0.28      0.40      0.33      1977\n",
      "           4       0.29      0.13      0.18      1430\n",
      "           5       0.17      0.15      0.16      1586\n",
      "           6       0.21      0.14      0.17      1293\n",
      "           7       0.21      0.02      0.04       916\n",
      "           8       0.33      0.02      0.04       819\n",
      "           9       0.42      0.64      0.51      2116\n",
      "          10       0.34      0.52      0.41      1314\n",
      "          11       0.26      0.39      0.31      1839\n",
      "          12       0.42      0.54      0.47      1297\n",
      "          13       0.27      0.23      0.25      1406\n",
      "          14       0.22      0.15      0.18      1792\n",
      "          15       0.17      0.30      0.22      2372\n",
      "          16       0.30      0.19      0.23      1010\n",
      "          17       0.28      0.18      0.22      1261\n",
      "          18       0.39      0.27      0.32       687\n",
      "          19       0.19      0.06      0.10       821\n",
      "          20       0.16      0.03      0.05      1667\n",
      "          21       0.18      0.16      0.17      2171\n",
      "          22       0.18      0.34      0.24      2166\n",
      "          23       0.22      0.25      0.23      1744\n",
      "          24       0.27      0.07      0.11      1453\n",
      "\n",
      "    accuracy                           0.26     35911\n",
      "   macro avg       0.26      0.23      0.23     35911\n",
      "weighted avg       0.25      0.26      0.24     35911\n",
      "\n",
      "Temps de training: 1259.2823445796967 Temps de prédiction:  264.5029807090759\n"
     ]
    },
    {
     "data": {
      "text/plain": [
       "(array([[  45,   20,   82,    3,    2,   10,   31,    0,    0,    6,   95,\n",
       "            0,    0,    1,    8,   34,    9,    1,    1,    6,    0,    0,\n",
       "           44,   11,    0],\n",
       "        [  13,  199,  122,   17,    4,   27,   52,    0,    0,   31,   80,\n",
       "           16,    2,    3,   12,   91,   14,    4,    8,   22,    3,   26,\n",
       "          108,   45,    3],\n",
       "        [  27,   48,  520,   16,    4,   28,   53,    5,    0,   25,  110,\n",
       "           20,    0,    1,   39,  145,   24,    1,    8,   17,    5,   41,\n",
       "          294,   31,    1],\n",
       "        [   0,   14,   18,  789,   79,   62,   28,    6,    0,  366,   36,\n",
       "           32,    8,    7,  113,  113,   25,    8,   54,   13,    6,   39,\n",
       "          131,   27,    3],\n",
       "        [   4,   11,   27,  364,  184,  119,   30,    2,    0,  166,   66,\n",
       "           23,   15,    9,   36,  170,    9,    9,   18,    5,    6,   52,\n",
       "           90,   13,    2],\n",
       "        [   8,   19,   50,  154,   89,  237,   31,    4,    0,   62,   91,\n",
       "           44,   40,   29,   17,  321,    6,   22,   10,   12,   12,  111,\n",
       "          110,  104,    3],\n",
       "        [  14,   34,  118,   92,   18,   56,  184,   10,    1,   69,  137,\n",
       "           14,    1,    6,   29,  143,   49,    4,    8,   14,    6,   24,\n",
       "          222,   39,    1],\n",
       "        [   4,   10,  106,   33,    2,   24,   38,   19,    1,   61,   43,\n",
       "           53,    4,    6,   66,   85,   24,    6,    6,   15,   19,   23,\n",
       "          216,   52,    0],\n",
       "        [   0,    4,    9,   26,    7,   23,    3,    0,   16,    3,    6,\n",
       "          239,   37,   48,   13,  106,    4,   26,    0,    1,   12,  101,\n",
       "           42,   63,   30],\n",
       "        [   3,   15,   30,  231,   18,    9,   22,    3,    0, 1349,   32,\n",
       "           28,    3,    2,  102,   35,   28,    3,   53,   15,    1,   16,\n",
       "          101,   15,    2],\n",
       "        [  25,   38,   76,   39,   15,   74,   55,    1,    0,   29,  682,\n",
       "            0,    1,    2,   15,   50,   20,    5,    7,   14,    0,    8,\n",
       "          118,   39,    1],\n",
       "        [   1,    4,   27,   54,   13,   40,    8,    3,    6,   20,   13,\n",
       "          723,  152,  155,   31,  151,    9,   52,    2,    1,   31,  118,\n",
       "          103,   85,   37],\n",
       "        [   2,    1,    4,   10,   17,   56,    2,    0,    2,    4,    4,\n",
       "          157,  697,  130,    0,   64,    0,   32,    0,    0,   11,   50,\n",
       "            6,   34,   14],\n",
       "        [   0,    1,   11,   30,   11,   48,    2,    0,    0,   23,   11,\n",
       "          247,  262,  329,   13,   90,    4,   50,    1,    0,    6,   69,\n",
       "           31,  132,   35],\n",
       "        [   5,    5,  110,  185,   15,   40,   46,   14,    1,  238,   74,\n",
       "           68,    8,    9,  269,  135,   48,    9,   18,   14,   13,   44,\n",
       "          358,   60,    6],\n",
       "        [  12,   30,  106,  144,   37,  126,   55,    2,    3,   54,   85,\n",
       "           97,   50,   30,   36,  709,   15,   51,    7,    7,   26,  250,\n",
       "          277,  147,   16],\n",
       "        [   7,   12,   85,   89,    3,    9,   38,    7,    0,   85,   41,\n",
       "           19,    2,    3,   66,   66,  189,    4,   17,   18,    0,   17,\n",
       "          193,   39,    1],\n",
       "        [   0,    9,   19,   33,    2,   31,    8,    0,    2,   13,   22,\n",
       "          185,   84,  124,    7,  126,   11,  223,    8,    5,   13,  120,\n",
       "           30,  122,   64],\n",
       "        [   4,   11,    9,   92,   10,   10,    7,    6,    1,  186,   19,\n",
       "           10,    0,    5,   15,   20,   21,   16,  184,   10,    0,    5,\n",
       "           27,   14,    5],\n",
       "        [   4,   36,   86,   50,    7,   16,   25,    1,    0,  180,   89,\n",
       "            3,    0,    0,   36,   40,   29,    0,   16,   53,    0,    5,\n",
       "          121,   24,    0],\n",
       "        [   3,   17,   60,  102,   40,   73,   27,    1,    4,   40,   36,\n",
       "          174,   71,   45,   45,  294,   10,   42,    5,    5,   50,  177,\n",
       "          235,  100,   11],\n",
       "        [   2,   24,   67,   97,   30,  108,   20,    1,    5,   46,   57,\n",
       "          164,   74,   58,   40,  534,   10,   63,    7,    5,   35,  354,\n",
       "          228,  118,   24],\n",
       "        [   8,   34,  199,   82,   17,   49,   54,    2,    2,   81,  125,\n",
       "           81,    3,   12,  144,  252,   42,    5,   13,   13,   22,   91,\n",
       "          739,   89,    7],\n",
       "        [   4,   27,   65,   48,    2,   70,   22,    1,    2,   15,   44,\n",
       "          182,   82,  100,   31,  185,   26,   61,    8,   12,   12,  119,\n",
       "          162,  436,   28],\n",
       "        [   2,   17,   24,   56,   12,   69,   16,    2,    3,   28,   29,\n",
       "          226,   82,  119,   24,  170,   10,   97,    8,    4,   15,  121,\n",
       "           79,  134,  106]]),\n",
       " '              precision    recall  f1-score   support\\n\\n           0       0.23      0.11      0.15       409\\n           1       0.31      0.22      0.26       902\\n           2       0.26      0.36      0.30      1463\\n           3       0.28      0.40      0.33      1977\\n           4       0.29      0.13      0.18      1430\\n           5       0.17      0.15      0.16      1586\\n           6       0.21      0.14      0.17      1293\\n           7       0.21      0.02      0.04       916\\n           8       0.33      0.02      0.04       819\\n           9       0.42      0.64      0.51      2116\\n          10       0.34      0.52      0.41      1314\\n          11       0.26      0.39      0.31      1839\\n          12       0.42      0.54      0.47      1297\\n          13       0.27      0.23      0.25      1406\\n          14       0.22      0.15      0.18      1792\\n          15       0.17      0.30      0.22      2372\\n          16       0.30      0.19      0.23      1010\\n          17       0.28      0.18      0.22      1261\\n          18       0.39      0.27      0.32       687\\n          19       0.19      0.06      0.10       821\\n          20       0.16      0.03      0.05      1667\\n          21       0.18      0.16      0.17      2171\\n          22       0.18      0.34      0.24      2166\\n          23       0.22      0.25      0.23      1744\\n          24       0.27      0.07      0.11      1453\\n\\n    accuracy                           0.26     35911\\n   macro avg       0.26      0.23      0.23     35911\\nweighted avg       0.25      0.26      0.24     35911\\n',\n",
       " 1259.2823445796967,\n",
       " 264.5029807090759)"
      ]
     },
     "execution_count": 5,
     "metadata": {},
     "output_type": "execute_result"
    }
   ],
   "source": [
    "\n"
   ]
  },
  {
   "cell_type": "code",
   "execution_count": null,
   "metadata": {
    "pycharm": {
     "metadata": false,
     "name": "#%%\n"
    }
   },
   "outputs": [],
   "source": []
  },
  {
   "cell_type": "code",
   "execution_count": null,
   "metadata": {
    "pycharm": {
     "metadata": false,
     "name": "#%%\n"
    }
   },
   "outputs": [],
   "source": [
    "\n"
   ]
  },
  {
   "cell_type": "code",
   "execution_count": null,
   "metadata": {
    "pycharm": {
     "metadata": false,
     "name": "#%%\n"
    }
   },
   "outputs": [],
   "source": [
    ")"
   ]
  },
  {
   "cell_type": "code",
   "execution_count": null,
   "metadata": {
    "pycharm": {
     "metadata": false,
     "name": "#%%\n"
    }
   },
   "outputs": [],
   "source": [
    "dataset_path=(\"/home/ens/AN03460/Desktop/TP4/music/music/tagged_feature_sets/msd-marsyas_dev_new/msd-marsyas_dev_new.csv\")\n",
    "print('Test ACC marsvas')\n",
    "X, Y = get_data(dataset_pat)\n",
    "X = preprocessing.normalize(X, norm='max',axis = 0)\n",
    "X_train, X_test, Y_train, Y_test = train_test_split(X, Y, train_size=0.8, random_state=60, stratify=Y)\n",
    "N_comp=PCA_Find_ncomp(X_train,0.95)\n",
    "print(N_comp)\n",
    "\n",
    "\n",
    "# PCA_X_Train,PCA_X_Test=PCA_transform(X_train,X_test,N_comp)\n",
    "# print('Linear')\n",
    "# SVC_Linear(PCA_X_Train, Y_train, PCA_X_Test, Y_test,1)\n",
    "# print('rbf')\n",
    "# SVC_rbf(PCA_X_Train, Y_train, PCA_X_Test, Y_test,10,1)"
   ]
  },
  {
   "cell_type": "code",
   "execution_count": null,
   "metadata": {
    "pycharm": {
     "metadata": false,
     "name": "#%%\n"
    }
   },
   "outputs": [],
   "source": []
  },
  {
   "cell_type": "code",
   "execution_count": null,
   "metadata": {
    "pycharm": {
     "metadata": false,
     "name": "#%%\n"
    }
   },
   "outputs": [],
   "source": []
  },
  {
   "cell_type": "code",
   "execution_count": null,
   "metadata": {
    "pycharm": {
     "metadata": false,
     "name": "#%%\n"
    }
   },
   "outputs": [],
   "source": []
  }
 ],
 "metadata": {
  "kernelspec": {
   "display_name": "Python 3",
   "language": "python",
   "name": "python3"
  },
  "language_info": {
   "codemirror_mode": {
    "name": "ipython",
    "version": 3
   },
   "file_extension": ".py",
   "mimetype": "text/x-python",
   "name": "python",
   "nbconvert_exporter": "python",
   "pygments_lexer": "ipython3",
   "version": "3.6.8"
  }
 },
 "nbformat": 4,
 "nbformat_minor": 1
}
